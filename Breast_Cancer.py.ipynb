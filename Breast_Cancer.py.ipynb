{
 "cells": [
  {
   "cell_type": "code",
   "execution_count": 1,
   "metadata": {},
   "outputs": [],
   "source": [
    "import pandas as pd\n",
    "import matplotlib.pyplot as plt\n",
    "import numpy as np\n",
    "import seaborn as sns\n"
   ]
  },
  {
   "cell_type": "code",
   "execution_count": 7,
   "metadata": {},
   "outputs": [
    {
     "data": {
      "text/html": [
       "<div>\n",
       "<style scoped>\n",
       "    .dataframe tbody tr th:only-of-type {\n",
       "        vertical-align: middle;\n",
       "    }\n",
       "\n",
       "    .dataframe tbody tr th {\n",
       "        vertical-align: top;\n",
       "    }\n",
       "\n",
       "    .dataframe thead th {\n",
       "        text-align: right;\n",
       "    }\n",
       "</style>\n",
       "<table border=\"1\" class=\"dataframe\">\n",
       "  <thead>\n",
       "    <tr style=\"text-align: right;\">\n",
       "      <th></th>\n",
       "      <th>mean_radius</th>\n",
       "      <th>mean_texture</th>\n",
       "      <th>mean_perimeter</th>\n",
       "      <th>mean_area</th>\n",
       "      <th>mean_smoothness</th>\n",
       "      <th>diagnosis</th>\n",
       "    </tr>\n",
       "  </thead>\n",
       "  <tbody>\n",
       "    <tr>\n",
       "      <th>0</th>\n",
       "      <td>17.99</td>\n",
       "      <td>10.38</td>\n",
       "      <td>122.80</td>\n",
       "      <td>1001.0</td>\n",
       "      <td>0.11840</td>\n",
       "      <td>0</td>\n",
       "    </tr>\n",
       "    <tr>\n",
       "      <th>1</th>\n",
       "      <td>20.57</td>\n",
       "      <td>17.77</td>\n",
       "      <td>132.90</td>\n",
       "      <td>1326.0</td>\n",
       "      <td>0.08474</td>\n",
       "      <td>0</td>\n",
       "    </tr>\n",
       "    <tr>\n",
       "      <th>2</th>\n",
       "      <td>19.69</td>\n",
       "      <td>21.25</td>\n",
       "      <td>130.00</td>\n",
       "      <td>1203.0</td>\n",
       "      <td>0.10960</td>\n",
       "      <td>0</td>\n",
       "    </tr>\n",
       "    <tr>\n",
       "      <th>3</th>\n",
       "      <td>11.42</td>\n",
       "      <td>20.38</td>\n",
       "      <td>77.58</td>\n",
       "      <td>386.1</td>\n",
       "      <td>0.14250</td>\n",
       "      <td>0</td>\n",
       "    </tr>\n",
       "    <tr>\n",
       "      <th>4</th>\n",
       "      <td>20.29</td>\n",
       "      <td>14.34</td>\n",
       "      <td>135.10</td>\n",
       "      <td>1297.0</td>\n",
       "      <td>0.10030</td>\n",
       "      <td>0</td>\n",
       "    </tr>\n",
       "  </tbody>\n",
       "</table>\n",
       "</div>"
      ],
      "text/plain": [
       "   mean_radius  mean_texture  mean_perimeter  mean_area  mean_smoothness  \\\n",
       "0        17.99         10.38          122.80     1001.0          0.11840   \n",
       "1        20.57         17.77          132.90     1326.0          0.08474   \n",
       "2        19.69         21.25          130.00     1203.0          0.10960   \n",
       "3        11.42         20.38           77.58      386.1          0.14250   \n",
       "4        20.29         14.34          135.10     1297.0          0.10030   \n",
       "\n",
       "   diagnosis  \n",
       "0          0  \n",
       "1          0  \n",
       "2          0  \n",
       "3          0  \n",
       "4          0  "
      ]
     },
     "execution_count": 7,
     "metadata": {},
     "output_type": "execute_result"
    }
   ],
   "source": [
    "df=pd.read_csv('Breast_cancer_data.csv')\n",
    "df.head()"
   ]
  },
  {
   "cell_type": "code",
   "execution_count": 26,
   "metadata": {},
   "outputs": [
    {
     "data": {
      "text/plain": [
       "array([[1.799e+01, 1.038e+01, 1.228e+02, 1.001e+03, 1.184e-01],\n",
       "       [2.057e+01, 1.777e+01, 1.329e+02, 1.326e+03, 8.474e-02],\n",
       "       [1.969e+01, 2.125e+01, 1.300e+02, 1.203e+03, 1.096e-01],\n",
       "       [1.142e+01, 2.038e+01, 7.758e+01, 3.861e+02, 1.425e-01],\n",
       "       [2.029e+01, 1.434e+01, 1.351e+02, 1.297e+03, 1.003e-01]])"
      ]
     },
     "execution_count": 26,
     "metadata": {},
     "output_type": "execute_result"
    }
   ],
   "source": [
    "x=df[['mean_radius','mean_texture','mean_perimeter','mean_area','mean_smoothness']].values\n",
    "x[0:5]"
   ]
  },
  {
   "cell_type": "code",
   "execution_count": 27,
   "metadata": {},
   "outputs": [
    {
     "data": {
      "text/plain": [
       "array([0, 0, 0, 0, 0], dtype=int64)"
      ]
     },
     "execution_count": 27,
     "metadata": {},
     "output_type": "execute_result"
    }
   ],
   "source": [
    "y=df['diagnosis'].values\n",
    "y[0:5]"
   ]
  },
  {
   "cell_type": "code",
   "execution_count": 28,
   "metadata": {},
   "outputs": [],
   "source": [
    "import itertools\n",
    "import numpy as np\n",
    "import matplotlib.pyplot as plt\n",
    "from matplotlib.ticker import NullFormatter\n",
    "import pandas as pd\n",
    "import numpy as np\n",
    "import matplotlib.ticker as ticker\n",
    "from sklearn import preprocessing\n",
    "%matplotlib inline\n",
    "x=preprocessing.StandardScaler().fit(x).transform(x.astype(float))"
   ]
  },
  {
   "cell_type": "code",
   "execution_count": 29,
   "metadata": {},
   "outputs": [
    {
     "name": "stdout",
     "output_type": "stream",
     "text": [
      "Train data is  (455, 5) (455,)\n",
      "Test data is  (114, 5) (114,)\n"
     ]
    }
   ],
   "source": [
    "from sklearn.model_selection import train_test_split\n",
    "x_train,x_test,y_train,y_test = train_test_split(x,y,test_size=0.2,random_state=4)\n",
    "print(\"Train data is \",x_train.shape,y_train.shape)\n",
    "print(\"Test data is \",x_test.shape,y_test.shape)"
   ]
  },
  {
   "cell_type": "code",
   "execution_count": 34,
   "metadata": {},
   "outputs": [
    {
     "data": {
      "text/plain": [
       "array([0.9122807 , 0.88596491, 0.93859649, 0.9122807 , 0.9122807 ,\n",
       "       0.9122807 , 0.92105263, 0.9122807 , 0.9122807 , 0.9122807 ,\n",
       "       0.9122807 , 0.9122807 , 0.92982456, 0.92982456, 0.93859649,\n",
       "       0.93859649, 0.94736842, 0.92982456, 0.92105263, 0.92982456,\n",
       "       0.92982456, 0.92982456, 0.92982456, 0.92982456, 0.92105263,\n",
       "       0.92105263, 0.92982456, 0.92105263, 0.92105263, 0.92105263,\n",
       "       0.92982456, 0.92105263, 0.92982456, 0.92105263, 0.93859649,\n",
       "       0.92105263, 0.94736842, 0.93859649, 0.94736842, 0.93859649,\n",
       "       0.93859649, 0.93859649, 0.94736842, 0.94736842, 0.94736842,\n",
       "       0.93859649, 0.93859649, 0.93859649, 0.92982456, 0.92982456,\n",
       "       0.92982456, 0.92982456, 0.92982456, 0.92982456, 0.92982456,\n",
       "       0.92982456, 0.92982456, 0.93859649, 0.94736842, 0.95614035,\n",
       "       0.93859649, 0.95614035, 0.93859649, 0.94736842, 0.94736842,\n",
       "       0.94736842, 0.93859649, 0.93859649, 0.93859649, 0.93859649,\n",
       "       0.94736842, 0.94736842, 0.94736842, 0.94736842, 0.93859649,\n",
       "       0.93859649, 0.93859649, 0.93859649, 0.93859649, 0.93859649,\n",
       "       0.93859649, 0.93859649, 0.93859649, 0.93859649, 0.93859649,\n",
       "       0.94736842, 0.93859649, 0.93859649, 0.93859649, 0.94736842,\n",
       "       0.94736842, 0.94736842, 0.93859649, 0.94736842, 0.94736842,\n",
       "       0.95614035, 0.95614035, 0.95614035, 0.94736842, 0.95614035,\n",
       "       0.94736842, 0.94736842, 0.94736842, 0.94736842, 0.93859649,\n",
       "       0.93859649, 0.93859649, 0.93859649, 0.93859649, 0.93859649,\n",
       "       0.93859649, 0.93859649, 0.93859649, 0.93859649, 0.93859649,\n",
       "       0.93859649, 0.93859649, 0.93859649, 0.93859649, 0.93859649,\n",
       "       0.93859649, 0.93859649, 0.93859649, 0.93859649, 0.93859649,\n",
       "       0.93859649, 0.93859649, 0.93859649, 0.93859649, 0.93859649,\n",
       "       0.93859649, 0.93859649, 0.93859649, 0.93859649, 0.93859649,\n",
       "       0.93859649, 0.93859649, 0.93859649, 0.93859649, 0.93859649,\n",
       "       0.93859649, 0.93859649, 0.93859649, 0.93859649, 0.92105263,\n",
       "       0.92982456, 0.92105263, 0.92105263, 0.92105263, 0.92105263,\n",
       "       0.92105263, 0.92105263, 0.92105263, 0.92105263, 0.92105263,\n",
       "       0.92105263, 0.92105263, 0.92105263, 0.92105263, 0.92105263,\n",
       "       0.92105263, 0.92105263, 0.92105263, 0.92105263, 0.92105263,\n",
       "       0.92105263, 0.92105263, 0.92105263, 0.92105263, 0.92105263,\n",
       "       0.92105263, 0.92105263, 0.92105263, 0.92105263, 0.92105263,\n",
       "       0.92105263, 0.92105263, 0.92105263, 0.92105263, 0.92105263,\n",
       "       0.92105263, 0.92105263, 0.92105263, 0.92105263, 0.92105263,\n",
       "       0.92105263, 0.92105263, 0.92105263, 0.92105263, 0.92105263,\n",
       "       0.92105263, 0.92105263, 0.92105263, 0.92105263, 0.92105263,\n",
       "       0.92105263, 0.92105263, 0.92105263, 0.92105263, 0.92105263,\n",
       "       0.92105263, 0.92105263, 0.92105263, 0.92105263, 0.92105263,\n",
       "       0.92105263, 0.92105263, 0.92105263, 0.92105263, 0.92105263,\n",
       "       0.92105263, 0.92105263, 0.92105263, 0.92105263, 0.92105263,\n",
       "       0.92105263, 0.92105263, 0.92105263, 0.92105263, 0.92105263,\n",
       "       0.92105263, 0.92105263, 0.92105263, 0.92105263, 0.92105263,\n",
       "       0.92105263, 0.92105263, 0.92105263, 0.92105263, 0.92105263,\n",
       "       0.92105263, 0.92105263, 0.92105263, 0.9122807 , 0.92105263,\n",
       "       0.9122807 , 0.9122807 , 0.9122807 , 0.9122807 , 0.9122807 ,\n",
       "       0.9122807 , 0.9122807 , 0.9122807 , 0.9122807 , 0.9122807 ,\n",
       "       0.9122807 , 0.9122807 , 0.9122807 , 0.9122807 , 0.9122807 ,\n",
       "       0.9122807 , 0.9122807 , 0.9122807 , 0.9122807 , 0.9122807 ,\n",
       "       0.9122807 , 0.9122807 , 0.9122807 , 0.92105263, 0.92105263,\n",
       "       0.92105263, 0.92105263, 0.92105263, 0.92105263, 0.92105263,\n",
       "       0.92105263, 0.92105263, 0.92105263, 0.9122807 , 0.92105263,\n",
       "       0.9122807 , 0.9122807 , 0.9122807 , 0.9122807 , 0.9122807 ,\n",
       "       0.9122807 , 0.9122807 , 0.9122807 , 0.9122807 , 0.9122807 ,\n",
       "       0.9122807 , 0.9122807 , 0.9122807 , 0.9122807 , 0.9122807 ,\n",
       "       0.9122807 , 0.9122807 , 0.9122807 , 0.90350877, 0.9122807 ,\n",
       "       0.90350877, 0.90350877, 0.90350877, 0.90350877, 0.90350877,\n",
       "       0.90350877, 0.90350877, 0.90350877, 0.90350877, 0.90350877,\n",
       "       0.90350877, 0.90350877, 0.90350877, 0.90350877, 0.89473684,\n",
       "       0.89473684, 0.89473684, 0.89473684, 0.89473684, 0.89473684,\n",
       "       0.89473684, 0.89473684, 0.89473684, 0.89473684, 0.89473684,\n",
       "       0.89473684, 0.89473684, 0.89473684, 0.89473684, 0.89473684,\n",
       "       0.89473684, 0.89473684, 0.87719298, 0.88596491, 0.87719298,\n",
       "       0.87719298, 0.85964912, 0.85964912, 0.85964912, 0.85964912,\n",
       "       0.85964912, 0.85964912, 0.85087719, 0.85087719, 0.85087719,\n",
       "       0.85087719, 0.83333333, 0.84210526, 0.83333333, 0.83333333,\n",
       "       0.81578947, 0.81578947, 0.79824561, 0.79824561, 0.78947368,\n",
       "       0.78947368, 0.77192982, 0.77192982, 0.77192982, 0.77192982,\n",
       "       0.75438596, 0.75438596, 0.74561404, 0.74561404, 0.72807018,\n",
       "       0.72807018, 0.70175439, 0.70175439, 0.70175439, 0.70175439,\n",
       "       0.70175439, 0.70175439, 0.70175439, 0.70175439, 0.70175439,\n",
       "       0.70175439, 0.70175439, 0.70175439, 0.70175439, 0.70175439,\n",
       "       0.70175439, 0.70175439, 0.70175439, 0.70175439, 0.70175439,\n",
       "       0.70175439, 0.70175439, 0.70175439, 0.70175439, 0.70175439,\n",
       "       0.70175439, 0.70175439, 0.70175439, 0.70175439, 0.70175439,\n",
       "       0.70175439, 0.70175439, 0.70175439, 0.70175439, 0.70175439,\n",
       "       0.70175439, 0.70175439, 0.70175439, 0.70175439, 0.70175439,\n",
       "       0.70175439, 0.70175439, 0.70175439, 0.70175439, 0.70175439,\n",
       "       0.70175439, 0.70175439, 0.70175439, 0.70175439, 0.70175439,\n",
       "       0.70175439, 0.70175439, 0.70175439, 0.70175439, 0.70175439,\n",
       "       0.70175439, 0.70175439, 0.70175439, 0.70175439, 0.70175439,\n",
       "       0.70175439, 0.70175439, 0.70175439, 0.70175439, 0.70175439,\n",
       "       0.70175439, 0.70175439, 0.70175439, 0.70175439, 0.70175439,\n",
       "       0.70175439, 0.70175439, 0.70175439, 0.70175439, 0.70175439,\n",
       "       0.70175439, 0.70175439, 0.70175439, 0.70175439, 0.70175439,\n",
       "       0.70175439, 0.70175439, 0.70175439, 0.70175439, 0.70175439,\n",
       "       0.70175439, 0.70175439, 0.70175439, 0.70175439, 0.70175439,\n",
       "       0.70175439, 0.70175439, 0.70175439, 0.70175439, 0.70175439,\n",
       "       0.70175439, 0.70175439, 0.70175439])"
      ]
     },
     "execution_count": 34,
     "metadata": {},
     "output_type": "execute_result"
    }
   ],
   "source": [
    "from sklearn.neighbors import KNeighborsClassifier \n",
    "from sklearn import metrics\n",
    "ks=454\n",
    "mean_acc=np.zeros((ks-1))\n",
    "ConfustionMx = [];\n",
    "for n in range(1,ks):\n",
    "    neigh=KNeighborsClassifier(n_neighbors=n).fit(x_train,y_train)\n",
    "    yhat=neigh.predict(x_test)\n",
    "    mean_acc[n-1] = metrics.accuracy_score(y_test, yhat)\n",
    "mean_acc"
   ]
  },
  {
   "cell_type": "code",
   "execution_count": 40,
   "metadata": {},
   "outputs": [
    {
     "data": {
      "image/png": "[encoded data removed]",
      "text/plain": [
       "<Figure size 432x288 with 1 Axes>"
      ]
     },
     "metadata": {
      "needs_background": "light"
     },
     "output_type": "display_data"
    }
   ],
   "source": [
    "plt.plot(range(1,ks),mean_acc,'g')\n",
    "plt.ylabel(\"Accuracy\")\n",
    "plt.xlabel(\"Number of Neighbors\")\n",
    "plt.show()"
   ]
  },
  {
   "cell_type": "code",
   "execution_count": 41,
   "metadata": {},
   "outputs": [
    {
     "name": "stdout",
     "output_type": "stream",
     "text": [
      "The best accuracy was with 0.956140350877193 with k= 60\n"
     ]
    }
   ],
   "source": [
    "print( \"The best accuracy was with\", mean_acc.max(), \"with k=\", mean_acc.argmax()+1) "
   ]
  },
  {
   "cell_type": "code",
   "execution_count": 55,
   "metadata": {},
   "outputs": [
    {
     "ename": "NotFittedError",
     "evalue": "This KNeighborsClassifier instance is not fitted yet. Call 'fit' with appropriate arguments before using this method.",
     "output_type": "error",
     "traceback": [
      "\u001b[1;31m---------------------------------------------------------------------------\u001b[0m",
      "\u001b[1;31mNotFittedError\u001b[0m                            Traceback (most recent call last)",
      "\u001b[1;32m<ipython-input-55-a3019a7d76e0>\u001b[0m in \u001b[0;36m<module>\u001b[1;34m\u001b[0m\n\u001b[0;32m      1\u001b[0m \u001b[0mneigh\u001b[0m\u001b[1;33m=\u001b[0m\u001b[0mKNeighborsClassifier\u001b[0m\u001b[1;33m(\u001b[0m\u001b[0mn_neighbors\u001b[0m\u001b[1;33m=\u001b[0m\u001b[1;36m60\u001b[0m\u001b[1;33m)\u001b[0m\u001b[1;33m\u001b[0m\u001b[1;33m\u001b[0m\u001b[0m\n\u001b[1;32m----> 2\u001b[1;33m \u001b[0mneigh\u001b[0m\u001b[1;33m.\u001b[0m\u001b[0mpredict\u001b[0m\u001b[1;33m(\u001b[0m\u001b[1;33m[\u001b[0m\u001b[1;33m[\u001b[0m\u001b[1;36m7.76\u001b[0m\u001b[1;33m,\u001b[0m\u001b[1;36m22.39\u001b[0m\u001b[1;33m,\u001b[0m\u001b[1;36m14.0\u001b[0m\u001b[1;33m,\u001b[0m\u001b[1;36m189.0\u001b[0m\u001b[1;33m,\u001b[0m\u001b[1;36m0.0456\u001b[0m\u001b[1;33m]\u001b[0m\u001b[1;33m]\u001b[0m\u001b[1;33m)\u001b[0m\u001b[1;33m\u001b[0m\u001b[1;33m\u001b[0m\u001b[0m\n\u001b[0m",
      "\u001b[1;32m~\\Anaconda3\\lib\\site-packages\\sklearn\\neighbors\\classification.py\u001b[0m in \u001b[0;36mpredict\u001b[1;34m(self, X)\u001b[0m\n\u001b[0;32m    147\u001b[0m         \u001b[0mX\u001b[0m \u001b[1;33m=\u001b[0m \u001b[0mcheck_array\u001b[0m\u001b[1;33m(\u001b[0m\u001b[0mX\u001b[0m\u001b[1;33m,\u001b[0m \u001b[0maccept_sparse\u001b[0m\u001b[1;33m=\u001b[0m\u001b[1;34m'csr'\u001b[0m\u001b[1;33m)\u001b[0m\u001b[1;33m\u001b[0m\u001b[1;33m\u001b[0m\u001b[0m\n\u001b[0;32m    148\u001b[0m \u001b[1;33m\u001b[0m\u001b[0m\n\u001b[1;32m--> 149\u001b[1;33m         \u001b[0mneigh_dist\u001b[0m\u001b[1;33m,\u001b[0m \u001b[0mneigh_ind\u001b[0m \u001b[1;33m=\u001b[0m \u001b[0mself\u001b[0m\u001b[1;33m.\u001b[0m\u001b[0mkneighbors\u001b[0m\u001b[1;33m(\u001b[0m\u001b[0mX\u001b[0m\u001b[1;33m)\u001b[0m\u001b[1;33m\u001b[0m\u001b[1;33m\u001b[0m\u001b[0m\n\u001b[0m\u001b[0;32m    150\u001b[0m         \u001b[0mclasses_\u001b[0m \u001b[1;33m=\u001b[0m \u001b[0mself\u001b[0m\u001b[1;33m.\u001b[0m\u001b[0mclasses_\u001b[0m\u001b[1;33m\u001b[0m\u001b[1;33m\u001b[0m\u001b[0m\n\u001b[0;32m    151\u001b[0m         \u001b[0m_y\u001b[0m \u001b[1;33m=\u001b[0m \u001b[0mself\u001b[0m\u001b[1;33m.\u001b[0m\u001b[0m_y\u001b[0m\u001b[1;33m\u001b[0m\u001b[1;33m\u001b[0m\u001b[0m\n",
      "\u001b[1;32m~\\Anaconda3\\lib\\site-packages\\sklearn\\neighbors\\base.py\u001b[0m in \u001b[0;36mkneighbors\u001b[1;34m(self, X, n_neighbors, return_distance)\u001b[0m\n\u001b[0;32m    383\u001b[0m \u001b[1;33m\u001b[0m\u001b[0m\n\u001b[0;32m    384\u001b[0m         \"\"\"\n\u001b[1;32m--> 385\u001b[1;33m         \u001b[0mcheck_is_fitted\u001b[0m\u001b[1;33m(\u001b[0m\u001b[0mself\u001b[0m\u001b[1;33m,\u001b[0m \u001b[1;34m\"_fit_method\"\u001b[0m\u001b[1;33m)\u001b[0m\u001b[1;33m\u001b[0m\u001b[1;33m\u001b[0m\u001b[0m\n\u001b[0m\u001b[0;32m    386\u001b[0m \u001b[1;33m\u001b[0m\u001b[0m\n\u001b[0;32m    387\u001b[0m         \u001b[1;32mif\u001b[0m \u001b[0mn_neighbors\u001b[0m \u001b[1;32mis\u001b[0m \u001b[1;32mNone\u001b[0m\u001b[1;33m:\u001b[0m\u001b[1;33m\u001b[0m\u001b[1;33m\u001b[0m\u001b[0m\n",
      "\u001b[1;32m~\\Anaconda3\\lib\\site-packages\\sklearn\\utils\\validation.py\u001b[0m in \u001b[0;36mcheck_is_fitted\u001b[1;34m(estimator, attributes, msg, all_or_any)\u001b[0m\n\u001b[0;32m    949\u001b[0m \u001b[1;33m\u001b[0m\u001b[0m\n\u001b[0;32m    950\u001b[0m     \u001b[1;32mif\u001b[0m \u001b[1;32mnot\u001b[0m \u001b[0mall_or_any\u001b[0m\u001b[1;33m(\u001b[0m\u001b[1;33m[\u001b[0m\u001b[0mhasattr\u001b[0m\u001b[1;33m(\u001b[0m\u001b[0mestimator\u001b[0m\u001b[1;33m,\u001b[0m \u001b[0mattr\u001b[0m\u001b[1;33m)\u001b[0m \u001b[1;32mfor\u001b[0m \u001b[0mattr\u001b[0m \u001b[1;32min\u001b[0m \u001b[0mattributes\u001b[0m\u001b[1;33m]\u001b[0m\u001b[1;33m)\u001b[0m\u001b[1;33m:\u001b[0m\u001b[1;33m\u001b[0m\u001b[1;33m\u001b[0m\u001b[0m\n\u001b[1;32m--> 951\u001b[1;33m         \u001b[1;32mraise\u001b[0m \u001b[0mNotFittedError\u001b[0m\u001b[1;33m(\u001b[0m\u001b[0mmsg\u001b[0m \u001b[1;33m%\u001b[0m \u001b[1;33m{\u001b[0m\u001b[1;34m'name'\u001b[0m\u001b[1;33m:\u001b[0m \u001b[0mtype\u001b[0m\u001b[1;33m(\u001b[0m\u001b[0mestimator\u001b[0m\u001b[1;33m)\u001b[0m\u001b[1;33m.\u001b[0m\u001b[0m__name__\u001b[0m\u001b[1;33m}\u001b[0m\u001b[1;33m)\u001b[0m\u001b[1;33m\u001b[0m\u001b[1;33m\u001b[0m\u001b[0m\n\u001b[0m\u001b[0;32m    952\u001b[0m \u001b[1;33m\u001b[0m\u001b[0m\n\u001b[0;32m    953\u001b[0m \u001b[1;33m\u001b[0m\u001b[0m\n",
      "\u001b[1;31mNotFittedError\u001b[0m: This KNeighborsClassifier instance is not fitted yet. Call 'fit' with appropriate arguments before using this method."
     ]
    }
   ],
   "source": [
    "neigh=KNeighborsClassifier(n_neighbors=60).fit()\n",
    "neigh.predict([[7.76,22.39,14.0,189.0,0.0456]])"
   ]
  },
  {
   "cell_type": "code",
   "execution_count": 47,
   "metadata": {},
   "outputs": [
    {
     "data": {
      "text/html": [
       "<div>\n",
       "<style scoped>\n",
       "    .dataframe tbody tr th:only-of-type {\n",
       "        vertical-align: middle;\n",
       "    }\n",
       "\n",
       "    .dataframe tbody tr th {\n",
       "        vertical-align: top;\n",
       "    }\n",
       "\n",
       "    .dataframe thead th {\n",
       "        text-align: right;\n",
       "    }\n",
       "</style>\n",
       "<table border=\"1\" class=\"dataframe\">\n",
       "  <thead>\n",
       "    <tr style=\"text-align: right;\">\n",
       "      <th></th>\n",
       "      <th>mean_radius</th>\n",
       "      <th>mean_texture</th>\n",
       "      <th>mean_perimeter</th>\n",
       "      <th>mean_area</th>\n",
       "      <th>mean_smoothness</th>\n",
       "      <th>diagnosis</th>\n",
       "    </tr>\n",
       "  </thead>\n",
       "  <tbody>\n",
       "    <tr>\n",
       "      <th>564</th>\n",
       "      <td>21.56</td>\n",
       "      <td>22.39</td>\n",
       "      <td>142.00</td>\n",
       "      <td>1479.0</td>\n",
       "      <td>0.11100</td>\n",
       "      <td>0</td>\n",
       "    </tr>\n",
       "    <tr>\n",
       "      <th>565</th>\n",
       "      <td>20.13</td>\n",
       "      <td>28.25</td>\n",
       "      <td>131.20</td>\n",
       "      <td>1261.0</td>\n",
       "      <td>0.09780</td>\n",
       "      <td>0</td>\n",
       "    </tr>\n",
       "    <tr>\n",
       "      <th>566</th>\n",
       "      <td>16.60</td>\n",
       "      <td>28.08</td>\n",
       "      <td>108.30</td>\n",
       "      <td>858.1</td>\n",
       "      <td>0.08455</td>\n",
       "      <td>0</td>\n",
       "    </tr>\n",
       "    <tr>\n",
       "      <th>567</th>\n",
       "      <td>20.60</td>\n",
       "      <td>29.33</td>\n",
       "      <td>140.10</td>\n",
       "      <td>1265.0</td>\n",
       "      <td>0.11780</td>\n",
       "      <td>0</td>\n",
       "    </tr>\n",
       "    <tr>\n",
       "      <th>568</th>\n",
       "      <td>7.76</td>\n",
       "      <td>24.54</td>\n",
       "      <td>47.92</td>\n",
       "      <td>181.0</td>\n",
       "      <td>0.05263</td>\n",
       "      <td>1</td>\n",
       "    </tr>\n",
       "  </tbody>\n",
       "</table>\n",
       "</div>"
      ],
      "text/plain": [
       "     mean_radius  mean_texture  mean_perimeter  mean_area  mean_smoothness  \\\n",
       "564        21.56         22.39          142.00     1479.0          0.11100   \n",
       "565        20.13         28.25          131.20     1261.0          0.09780   \n",
       "566        16.60         28.08          108.30      858.1          0.08455   \n",
       "567        20.60         29.33          140.10     1265.0          0.11780   \n",
       "568         7.76         24.54           47.92      181.0          0.05263   \n",
       "\n",
       "     diagnosis  \n",
       "564          0  \n",
       "565          0  \n",
       "566          0  \n",
       "567          0  \n",
       "568          1  "
      ]
     },
     "execution_count": 47,
     "metadata": {},
     "output_type": "execute_result"
    }
   ],
   "source": [
    "df.tail()"
   ]
  },
  {
   "cell_type": "code",
   "execution_count": null,
   "metadata": {},
   "outputs": [],
   "source": []
  }
 ],
 "metadata": {
  "kernelspec": {
   "display_name": "Python 3",
   "language": "python",
   "name": "python3"
  },
  "language_info": {
   "codemirror_mode": {
    "name": "ipython",
    "version": 3
   },
   "file_extension": ".py",
   "mimetype": "text/x-python",
   "name": "python",
   "nbconvert_exporter": "python",
   "pygments_lexer": "ipython3",
   "version": "3.7.3"
  }
 },
 "nbformat": 4,
 "nbformat_minor": 2
}
